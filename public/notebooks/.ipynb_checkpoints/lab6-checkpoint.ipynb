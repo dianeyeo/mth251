{
 "cells": [
  {
   "cell_type": "code",
   "execution_count": null,
   "id": "liable-circuit",
   "metadata": {},
   "outputs": [],
   "source": [
    "# Q2\n",
    "# n!\n",
    "n = int(input(\"Enter a number: \"))\n",
    "while(n > 0):\n",
    "    j = n + 1\n",
    "    y = 1\n",
    "    for i in range(1, j):\n",
    "        y = y*i\n",
    "    print(\"{0:d}! = {1:d}\".format(n, y))\n",
    "    n -= 1"
   ]
  },
  {
   "cell_type": "code",
   "execution_count": null,
   "id": "infectious-arrest",
   "metadata": {},
   "outputs": [],
   "source": [
    "# Q2\n",
    "# n!\n",
    "global result\n",
    "result = 1\n",
    "def fractorial_function(n): \n",
    "    global result\n",
    "    if n == 1:\n",
    "        print(\"1! = 1\")\n",
    "        return 1\n",
    "    result = n * fractorial_function(n-1)\n",
    "    print(f\"{n}! = {result}\")\n",
    "    return result\n",
    "\n",
    "n = int(input(\"Enter a number: \"))\n",
    "fractorial_function(n)"
   ]
  }
 ],
 "metadata": {
  "kernelspec": {
   "display_name": "Python 3",
   "language": "python",
   "name": "python3"
  },
  "language_info": {
   "codemirror_mode": {
    "name": "ipython",
    "version": 3
   },
   "file_extension": ".py",
   "mimetype": "text/x-python",
   "name": "python",
   "nbconvert_exporter": "python",
   "pygments_lexer": "ipython3",
   "version": "3.8.5"
  }
 },
 "nbformat": 4,
 "nbformat_minor": 5
}
